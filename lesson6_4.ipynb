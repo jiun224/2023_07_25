{
 "cells": [
  {
   "cell_type": "code",
   "execution_count": null,
   "metadata": {},
   "outputs": [],
   "source": [
    "import random\n",
    "min = 1\n",
    "max = 100\n",
    "target = random.randint(min,max)\n",
    "print(target)   #這是我自己加的\n",
    "count = 0\n",
    "print(\"==========猜數字遊戲==========\\n\\n\")\n",
    "while True:    \n",
    "    keyin = int(input(f\"猜數字的範圍{min}~{max}:\"))\n",
    "    count += 1\n",
    "    if keyin >= min and keyin <= max:\n",
    "        if(keyin == target):\n",
    "            print(f\"賓果!猜對了, 答案是:{keyin}\")\n",
    "            print(f\"您總共猜了{count}次\")\n",
    "            break\n",
    "        elif(keyin > target):\n",
    "            print(\"再小一點\")\n",
    "            max = keyin - 1\n",
    "            #print(f\"您已經猜了{count}次\")\n",
    "        elif(keyin <target):\n",
    "            print(\"再大一點\")\n",
    "            min = keyin + 1\n",
    "            #print(f\"您已經猜了{count}次\")\n",
    "        print(f\"您已經猜了{count}次\")   #上方兩個elif都會執行,把它放到外面\n",
    "    else:\n",
    "        print(\"超出範圍\")\n",
    "print(\"GAME OVER!\")"
   ]
  },
  {
   "cell_type": "code",
   "execution_count": 5,
   "metadata": {},
   "outputs": [
    {
     "name": "stdout",
     "output_type": "stream",
     "text": [
      "繼續遊戲\n",
      "繼續遊戲\n",
      "繼續遊戲\n",
      "繼續遊戲\n",
      "遊戲結束\n"
     ]
    }
   ],
   "source": [
    "while True:\n",
    "    play_again = input(\"您還要繼續嗎?(y or n):\")\n",
    "    if play_again == 'n':        \n",
    "        break\n",
    "    else:\n",
    "        print(\"繼續遊戲\")\n",
    "\n",
    "print(\"遊戲結束\")"
   ]
  },
  {
   "cell_type": "code",
   "execution_count": 7,
   "metadata": {},
   "outputs": [
    {
     "name": "stdout",
     "output_type": "stream",
     "text": [
      "55\n",
      "==========猜數字遊戲==========\n",
      "\n",
      "\n",
      "再小一點\n",
      "您已經猜了1次\n",
      "賓果!猜對了, 答案是:55\n",
      "您總共猜了2次\n",
      "繼續遊戲\n",
      "53\n",
      "==========猜數字遊戲==========\n",
      "\n",
      "\n",
      "賓果!猜對了, 答案是:53\n",
      "您總共猜了1次\n",
      "遊戲結束\n"
     ]
    }
   ],
   "source": [
    "import random\n",
    "while True:\n",
    "    min = 1\n",
    "    max = 100\n",
    "    target = random.randint(min,max)\n",
    "    print(target)   #這是我自己加的\n",
    "    count = 0\n",
    "    print(\"==========猜數字遊戲==========\\n\\n\")\n",
    "    while True:    \n",
    "        keyin = int(input(f\"猜數字的範圍{min}~{max}:\"))\n",
    "        count += 1\n",
    "        if keyin >= min and keyin <= max:\n",
    "            if(keyin == target):\n",
    "                print(f\"賓果!猜對了, 答案是:{keyin}\")\n",
    "                print(f\"您總共猜了{count}次\")\n",
    "                break\n",
    "            elif(keyin > target):\n",
    "                print(\"再小一點\")\n",
    "                max = keyin - 1\n",
    "                #print(f\"您已經猜了{count}次\")\n",
    "            elif(keyin <target):\n",
    "                print(\"再大一點\")\n",
    "                min = keyin + 1\n",
    "                #print(f\"您已經猜了{count}次\")\n",
    "            print(f\"您已經猜了{count}次\")   #上方兩個elif都會執行,把它放到外面\n",
    "        else:\n",
    "            print(\"超出範圍\")\n",
    "    play_again = input(\"您還要繼續嗎?(y or n):\")\n",
    "    if play_again == 'n':        \n",
    "        break\n",
    "    else:\n",
    "        print(\"繼續遊戲\")\n",
    "\n",
    "print(\"遊戲結束\")"
   ]
  }
 ],
 "metadata": {
  "kernelspec": {
   "display_name": "Python 3",
   "language": "python",
   "name": "python3"
  },
  "language_info": {
   "codemirror_mode": {
    "name": "ipython",
    "version": 3
   },
   "file_extension": ".py",
   "mimetype": "text/x-python",
   "name": "python",
   "nbconvert_exporter": "python",
   "pygments_lexer": "ipython3",
   "version": "3.10.12"
  },
  "orig_nbformat": 4
 },
 "nbformat": 4,
 "nbformat_minor": 2
}
