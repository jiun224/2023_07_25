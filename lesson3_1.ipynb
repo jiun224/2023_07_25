{
 "cells": [
  {
   "cell_type": "code",
   "execution_count": 10,
   "metadata": {},
   "outputs": [
    {
     "name": "stdout",
     "output_type": "stream",
     "text": [
      "梯形面積:151.50平方公分\n"
     ]
    }
   ],
   "source": [
    "top = float(input(\"請輸入梯形的上底(公分):\"))\n",
    "bottom = float(input(\"請輸入梯形的下底(公分):\"))\n",
    "height = float(input(\"請輸入梯形的高(公分):\"))\n",
    "area = (top + bottom) * height /2\n",
    "#print(\"梯形面積:\",round(area,ndigits=2),\"平方公分\")\n",
    "print(f\"梯形面積:{area:.2f}平方公分\")"
   ]
  },
  {
   "cell_type": "code",
   "execution_count": 11,
   "metadata": {},
   "outputs": [
    {
     "name": "stdout",
     "output_type": "stream",
     "text": [
      "我有3個apple,5個orange,共8個水果\n"
     ]
    }
   ],
   "source": [
    "#字串差補\n",
    "apple = 3\n",
    "orange = 5\n",
    "#print(\"我有\",apple,\"個apple\")\n",
    "print(f\"我有{apple}個apple,{orange}個orange,共有{apple+orange}個水果\")\n"
   ]
  },
  {
   "cell_type": "code",
   "execution_count": 12,
   "metadata": {},
   "outputs": [
    {
     "name": "stdout",
     "output_type": "stream",
     "text": [
      "斜邊5,對邊2.5,角度為30.00\n"
     ]
    }
   ],
   "source": [
    "import math\n",
    "side1 = eval(input(\"請輸入斜邊:\"))\n",
    "side2 = eval(input(\"請輸入對邊:\"))\n",
    "radian = math.asin(side2 / side1)\n",
    "degree = math.degrees(radian)\n",
    "print(f\"斜邊{side1},對邊{side2},角度為{degree:.2f}\")"
   ]
  },
  {
   "cell_type": "code",
   "execution_count": 14,
   "metadata": {},
   "outputs": [
    {
     "data": {
      "text/plain": [
       "array([ 0,  1,  2,  3,  4,  5,  6,  7,  8,  9, 10, 11, 12, 13, 14, 15, 16,\n",
       "       17, 18, 19, 20, 21, 22, 23, 24, 25, 26, 27, 28, 29, 30, 31, 32, 33,\n",
       "       34, 35, 36, 37, 38, 39, 40, 41, 42, 43, 44, 45, 46, 47, 48, 49, 50,\n",
       "       51, 52, 53, 54, 55, 56, 57, 58, 59, 60, 61, 62, 63, 64, 65, 66, 67,\n",
       "       68, 69, 70, 71, 72, 73, 74, 75, 76, 77, 78, 79, 80, 81, 82, 83, 84,\n",
       "       85, 86, 87, 88, 89, 90, 91, 92, 93, 94, 95, 96, 97, 98, 99])"
      ]
     },
     "execution_count": 14,
     "metadata": {},
     "output_type": "execute_result"
    }
   ],
   "source": [
    "#引進外部套件\n",
    "import sympy\n",
    "import numpy\n",
    "\n",
    "numpy.arange(100)\n",
    "\n"
   ]
  },
  {
   "cell_type": "code",
   "execution_count": 16,
   "metadata": {},
   "outputs": [
    {
     "name": "stdout",
     "output_type": "stream",
     "text": [
      "15\n",
      "150\n"
     ]
    }
   ],
   "source": [
    "#複合指定運算\n",
    "# +=, *=, /=, //=, %=, **=\n",
    "n = 5\n",
    "n += 10\n",
    "print(n)\n",
    "\n",
    "n *= 10\n",
    "print(n)\n",
    "#只有c,c++需要考慮記憶體位置,python不需要考慮記憶體位置"
   ]
  }
 ],
 "metadata": {
  "kernelspec": {
   "display_name": "Python 3",
   "language": "python",
   "name": "python3"
  },
  "language_info": {
   "codemirror_mode": {
    "name": "ipython",
    "version": 3
   },
   "file_extension": ".py",
   "mimetype": "text/x-python",
   "name": "python",
   "nbconvert_exporter": "python",
   "pygments_lexer": "ipython3",
   "version": "3.10.12"
  },
  "orig_nbformat": 4
 },
 "nbformat": 4,
 "nbformat_minor": 2
}
